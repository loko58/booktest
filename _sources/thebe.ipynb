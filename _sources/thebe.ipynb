{
 "cells": [
  {
   "cell_type": "markdown",
   "id": "8b6f4038",
   "metadata": {},
   "source": [
    "(launch:thebe)=\n",
    "# Make your code cells executable\n",
    "\n",
    "This section describes how to bring interactivity to your book. This lets users\n",
    "run code and see outputs *without leaving the page*. Interactivity is provided\n",
    "by a kernel running on the public [**MyBinder**](https://mybinder.org) service.\n",
    "\n",
    "For an example, click the {fa}`rocket` --> {guilabel}`Live Code` button above on this page, and run the code below."
   ]
  },
  {
   "cell_type": "code",
   "execution_count": 1,
   "id": "824976d6",
   "metadata": {},
   "outputs": [
    {
     "ename": "ModuleNotFoundError",
     "evalue": "No module named 'numpy'",
     "output_type": "error",
     "traceback": [
      "\u001b[1;31m---------------------------------------------------------------------------\u001b[0m",
      "\u001b[1;31mModuleNotFoundError\u001b[0m                       Traceback (most recent call last)",
      "Input \u001b[1;32mIn [1]\u001b[0m, in \u001b[0;36m<cell line: 1>\u001b[1;34m()\u001b[0m\n\u001b[1;32m----> 1\u001b[0m \u001b[38;5;28;01mimport\u001b[39;00m \u001b[38;5;21;01mnumpy\u001b[39;00m \u001b[38;5;28;01mas\u001b[39;00m \u001b[38;5;21;01mnp\u001b[39;00m\n\u001b[0;32m      2\u001b[0m \u001b[38;5;28;01mimport\u001b[39;00m \u001b[38;5;21;01mmatplotlib\u001b[39;00m\u001b[38;5;21;01m.\u001b[39;00m\u001b[38;5;21;01mpyplot\u001b[39;00m \u001b[38;5;28;01mas\u001b[39;00m \u001b[38;5;21;01mplt\u001b[39;00m\n\u001b[0;32m      3\u001b[0m plt\u001b[38;5;241m.\u001b[39mion()\n",
      "\u001b[1;31mModuleNotFoundError\u001b[0m: No module named 'numpy'"
     ]
    }
   ],
   "source": [
    "import numpy as np\n",
    "import matplotlib.pyplot as plt\n",
    "plt.ion()\n",
    "\n",
    "x = np.arange(500)\n",
    "y = np.random.randn(500)\n",
    "\n",
    "fig, ax = plt.subplots()\n",
    "ax.scatter(x, y, c=y, s=x)"
   ]
  },
  {
   "cell_type": "markdown",
   "id": "fb3fa5f2",
   "metadata": {},
   "source": [
    ":::{warning}\n",
    "This is an experimental feature, and may change in the future or work unexpectedly.\n",
    ":::\n",
    "\n",
    "## Pre-execute cells when Thebe is initialized\n",
    "\n",
    "Sometimes you'd like to run some code cells *immediately* when a kernel is requested.\n",
    "This might be code that you then hide from the user in order to narrow the focus of what they interact with.\n",
    "This is possible by using **cell tags** for the Jupyter Notebook.\n",
    "\n",
    "Adding the tag {guilabel}`thebe-init` to any code cell will cause Thebe to run this cell after it has received a kernel.\n",
    "Any subsequent Thebe cells will have access to the same environment (e.g. any module imports made in the initialization cell).\n",
    "\n",
    "You can then pair this with something like {guilabel}`hide-input` in order to run initialization code that your user doesn't immediately see.\n",
    "For example, below we'll initialize a variable in a hidden cell, and then tell another cell to print the output of that variable."
   ]
  },
  {
   "cell_type": "code",
   "execution_count": null,
   "id": "e37a5483",
   "metadata": {
    "tags": [
     "hide-input",
     "thebe-init"
    ]
   },
   "outputs": [],
   "source": [
    "my_hidden_variable = 'wow, it worked!'"
   ]
  },
  {
   "cell_type": "code",
   "execution_count": null,
   "id": "54ac227a",
   "metadata": {},
   "outputs": [],
   "source": [
    "# The variable for this is defined in the cell above!\n",
    "print(my_hidden_variable)"
   ]
  }
 ],
 "metadata": {
  "jupytext": {
   "formats": "md:myst",
   "text_representation": {
    "extension": ".md",
    "format_name": "myst",
    "format_version": 0.13,
    "jupytext_version": "1.10.3"
   }
  },
  "kernelspec": {
   "display_name": "Python 3",
   "language": "python",
   "name": "python3"
  },
  "language_info": {
   "codemirror_mode": {
    "name": "ipython",
    "version": 3
   },
   "file_extension": ".py",
   "mimetype": "text/x-python",
   "name": "python",
   "nbconvert_exporter": "python",
   "pygments_lexer": "ipython3",
   "version": "3.9.7"
  },
  "source_map": [
   13,
   24,
   34,
   52,
   58
  ]
 },
 "nbformat": 4,
 "nbformat_minor": 5
}