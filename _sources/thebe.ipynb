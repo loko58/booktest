{
 "cells": [
  {
   "cell_type": "markdown",
   "id": "15d685aa",
   "metadata": {},
   "source": [
    "(launch:thebe)=\n",
    "# Make your code cells executable\n",
    "\n",
    "This section describes how to bring interactivity to your book. This lets users\n",
    "run code and see outputs *without leaving the page*. Interactivity is provided\n",
    "by a kernel running on the public [**MyBinder**](https://mybinder.org) service.\n",
    "\n",
    "For an example, click the {fa}`rocket` --> {guilabel}`Live Code` button above on this page, and run the code below."
   ]
  },
  {
   "cell_type": "code",
   "execution_count": 1,
   "id": "30d3c339",
   "metadata": {},
   "outputs": [
    {
     "ename": "ModuleNotFoundError",
     "evalue": "No module named 'numpy'",
     "output_type": "error",
     "traceback": [
      "\u001b[1;31m---------------------------------------------------------------------------\u001b[0m",
      "\u001b[1;31mModuleNotFoundError\u001b[0m                       Traceback (most recent call last)",
      "Input \u001b[1;32mIn [1]\u001b[0m, in \u001b[0;36m<cell line: 1>\u001b[1;34m()\u001b[0m\n\u001b[1;32m----> 1\u001b[0m \u001b[38;5;28;01mimport\u001b[39;00m \u001b[38;5;21;01mnumpy\u001b[39;00m \u001b[38;5;28;01mas\u001b[39;00m \u001b[38;5;21;01mnp\u001b[39;00m\n\u001b[0;32m      2\u001b[0m \u001b[38;5;28;01mimport\u001b[39;00m \u001b[38;5;21;01mmatplotlib\u001b[39;00m\u001b[38;5;21;01m.\u001b[39;00m\u001b[38;5;21;01mpyplot\u001b[39;00m \u001b[38;5;28;01mas\u001b[39;00m \u001b[38;5;21;01mplt\u001b[39;00m\n\u001b[0;32m      3\u001b[0m plt\u001b[38;5;241m.\u001b[39mion()\n",
      "\u001b[1;31mModuleNotFoundError\u001b[0m: No module named 'numpy'"
     ]
    }
   ],
   "source": [
    "import numpy as np\n",
    "import matplotlib.pyplot as plt\n",
    "plt.ion()\n",
    "\n",
    "x = np.arange(500)\n",
    "y = np.random.randn(500)\n",
    "\n",
    "fig, ax = plt.subplots()\n",
    "ax.scatter(x, y, c=y, s=x)"
   ]
  },
  {
   "cell_type": "markdown",
   "id": "3a9f53e7",
   "metadata": {},
   "source": [
    ":::{warning}\n",
    "This is an experimental feature, and may change in the future or work unexpectedly.\n",
    ":::\n",
    "\n",
    "## Activate Thebe\n",
    "\n",
    "To make your content interactive without requiring readers to leave the current page, you can use a project called [Thebe](https://github.com/executablebooks/thebe).\n",
    "This provides you with a {guilabel}`Live Code` button that, when clicked, will convert each code cell into an **interactive** cell that can be edited.\n",
    "It also adds a \"run\" button to each cell, and connects to a Binder kernel running in the cloud.\n",
    "\n",
    "To add a Thebe button to your Jupyter Book pages, take these steps:\n",
    "\n",
    "1. First, [add the common launch button configuration](launchbuttons/configuration). This makes it possible for `thebe/` to use the correct environment and file paths for your content.\n",
    "2. Activate Thebe integration with the following configuration:\n",
    "\n",
    "   ```yaml\n",
    "   launch_buttons:\n",
    "     thebe                  : true\n",
    "   ```\n",
    "\n",
    "## Configure Thebe\n",
    "\n",
    "In addition, you can configure the Binder settings that are used to provide a kernel for Thebe to run the code.\n",
    "These use the same configuration fields as the BinderHub interact buttons described above.\n",
    "For information about how to do this, see [the BinderHub launch button documentation](launchbuttons/binder)."
   ]
  },
  {
   "cell_type": "markdown",
   "id": "7988a687",
   "metadata": {},
   "source": [
    "## Pre-execute cells when Thebe is initialized\n",
    "\n",
    "Sometimes you'd like to run some code cells *immediately* when a kernel is requested.\n",
    "This might be code that you then hide from the user in order to narrow the focus of what they interact with.\n",
    "This is possible by using **cell tags** for the Jupyter Notebook.\n",
    "\n",
    "Adding the tag {guilabel}`thebe-init` to any code cell will cause Thebe to run this cell after it has received a kernel.\n",
    "Any subsequent Thebe cells will have access to the same environment (e.g. any module imports made in the initialization cell).\n",
    "\n",
    "You can then pair this with something like {guilabel}`hide-input` in order to run initialization code that your user doesn't immediately see.\n",
    "For example, below we'll initialize a variable in a hidden cell, and then tell another cell to print the output of that variable."
   ]
  },
  {
   "cell_type": "code",
   "execution_count": null,
   "id": "7a03b80a",
   "metadata": {
    "tags": [
     "hide-input",
     "thebe-init"
    ]
   },
   "outputs": [],
   "source": [
    "my_hidden_variable = 'wow, it worked!'"
   ]
  },
  {
   "cell_type": "code",
   "execution_count": null,
   "id": "6c296bc8",
   "metadata": {},
   "outputs": [],
   "source": [
    "# The variable for this is defined in the cell above!\n",
    "print(my_hidden_variable)"
   ]
  }
 ],
 "metadata": {
  "jupytext": {
   "formats": "md:myst",
   "text_representation": {
    "extension": ".md",
    "format_name": "myst",
    "format_version": 0.13,
    "jupytext_version": "1.10.3"
   }
  },
  "kernelspec": {
   "display_name": "Python 3",
   "language": "python",
   "name": "python3"
  },
  "language_info": {
   "codemirror_mode": {
    "name": "ipython",
    "version": 3
   },
   "file_extension": ".py",
   "mimetype": "text/x-python",
   "name": "python",
   "nbconvert_exporter": "python",
   "pygments_lexer": "ipython3",
   "version": "3.9.7"
  },
  "source_map": [
   13,
   24,
   34,
   62,
   76,
   82
  ]
 },
 "nbformat": 4,
 "nbformat_minor": 5
}